{
 "cells": [
  {
   "attachments": {},
   "cell_type": "markdown",
   "id": "964ce3e2",
   "metadata": {},
   "source": [
    "Nghĩa: Tại sao lại dùng k-fold split? Tại sao lại dùng 5 folds chứ không phải là một con số khác?"
   ]
  },
  {
   "cell_type": "code",
   "execution_count": 2,
   "id": "be0e255e",
   "metadata": {},
   "outputs": [],
   "source": [
    "import pandas as pd\n",
    "from sklearn.model_selection import StratifiedGroupKFold"
   ]
  },
  {
   "cell_type": "code",
   "execution_count": null,
   "id": "52bc1402",
   "metadata": {},
   "outputs": [],
   "source": [
    "class CFG: # Nghia: tránh đặt tên class bằng chữ viết tắt, người khác và chính người code sau này sẽ bị khó hiểu, ví dụ là có thể đặt tên là SplitConfig \n",
    "    n_splits=5\n",
    "    shuffle=True\n",
    "    random_state=42\n",
    "    base_path= r\"D:/Breast_Cancer_Detection\""
   ]
  },
  {
   "cell_type": "code",
   "execution_count": 5,
   "id": "9ee977f1",
   "metadata": {},
   "outputs": [
    {
     "name": "stdout",
     "output_type": "stream",
     "text": [
      "Shape train_merge = (54706, 14)\n"
     ]
    },
    {
     "data": {
      "text/html": [
       "<div>\n",
       "<style scoped>\n",
       "    .dataframe tbody tr th:only-of-type {\n",
       "        vertical-align: middle;\n",
       "    }\n",
       "\n",
       "    .dataframe tbody tr th {\n",
       "        vertical-align: top;\n",
       "    }\n",
       "\n",
       "    .dataframe thead th {\n",
       "        text-align: right;\n",
       "    }\n",
       "</style>\n",
       "<table border=\"1\" class=\"dataframe\">\n",
       "  <thead>\n",
       "    <tr style=\"text-align: right;\">\n",
       "      <th></th>\n",
       "      <th>site_id</th>\n",
       "      <th>patient_id</th>\n",
       "      <th>image_id</th>\n",
       "      <th>laterality</th>\n",
       "      <th>view</th>\n",
       "      <th>age</th>\n",
       "      <th>cancer</th>\n",
       "      <th>biopsy</th>\n",
       "      <th>invasive</th>\n",
       "      <th>BIRADS</th>\n",
       "      <th>implant</th>\n",
       "      <th>density</th>\n",
       "      <th>machine_id</th>\n",
       "      <th>difficult_negative_case</th>\n",
       "    </tr>\n",
       "  </thead>\n",
       "  <tbody>\n",
       "    <tr>\n",
       "      <th>36781</th>\n",
       "      <td>1</td>\n",
       "      <td>49461</td>\n",
       "      <td>1927062843</td>\n",
       "      <td>L</td>\n",
       "      <td>MLO</td>\n",
       "      <td>56.0</td>\n",
       "      <td>0</td>\n",
       "      <td>0</td>\n",
       "      <td>0</td>\n",
       "      <td>NaN</td>\n",
       "      <td>0</td>\n",
       "      <td>C</td>\n",
       "      <td>49</td>\n",
       "      <td>False</td>\n",
       "    </tr>\n",
       "    <tr>\n",
       "      <th>42938</th>\n",
       "      <td>1</td>\n",
       "      <td>56328</td>\n",
       "      <td>846169117</td>\n",
       "      <td>L</td>\n",
       "      <td>MLO</td>\n",
       "      <td>78.0</td>\n",
       "      <td>1</td>\n",
       "      <td>1</td>\n",
       "      <td>1</td>\n",
       "      <td>0.0</td>\n",
       "      <td>0</td>\n",
       "      <td>B</td>\n",
       "      <td>49</td>\n",
       "      <td>False</td>\n",
       "    </tr>\n",
       "    <tr>\n",
       "      <th>3427</th>\n",
       "      <td>1</td>\n",
       "      <td>13635</td>\n",
       "      <td>1960264281</td>\n",
       "      <td>R</td>\n",
       "      <td>CC</td>\n",
       "      <td>64.0</td>\n",
       "      <td>0</td>\n",
       "      <td>0</td>\n",
       "      <td>0</td>\n",
       "      <td>NaN</td>\n",
       "      <td>0</td>\n",
       "      <td>A</td>\n",
       "      <td>93</td>\n",
       "      <td>False</td>\n",
       "    </tr>\n",
       "  </tbody>\n",
       "</table>\n",
       "</div>"
      ],
      "text/plain": [
       "       site_id  patient_id    image_id laterality view   age  cancer  biopsy  \\\n",
       "36781        1       49461  1927062843          L  MLO  56.0       0       0   \n",
       "42938        1       56328   846169117          L  MLO  78.0       1       1   \n",
       "3427         1       13635  1960264281          R   CC  64.0       0       0   \n",
       "\n",
       "       invasive  BIRADS  implant density  machine_id  difficult_negative_case  \n",
       "36781         0     NaN        0       C          49                    False  \n",
       "42938         1     0.0        0       B          49                    False  \n",
       "3427          0     NaN        0       A          93                    False  "
      ]
     },
     "execution_count": 5,
     "metadata": {},
     "output_type": "execute_result"
    }
   ],
   "source": [
    "train_data = pd.read_csv(f\"{CFG.base_path}/train.csv\")\n",
    "\n",
    "print(f\"Shape train_merge = {train_data.shape}\")\n",
    "train_data.sample(3)"
   ]
  },
  {
   "cell_type": "markdown",
   "id": "989afa99",
   "metadata": {},
   "source": [
    "# Stratified Group K-Fold"
   ]
  },
  {
   "cell_type": "code",
   "execution_count": 6,
   "id": "e6752e1c",
   "metadata": {},
   "outputs": [],
   "source": [
    "train_data['fold']= -1\n",
    "cv = StratifiedGroupKFold(n_splits=CFG.n_splits, shuffle=CFG.shuffle, random_state=CFG.random_state)\n",
    "\n",
    "for fold, (_, valid_idx) in enumerate(cv.split(X=train_data[\"image_id\"], y=train_data[\"cancer\"], groups=train_data[\"patient_id\"])):\n",
    "    train_data.loc[valid_idx, \"fold\"] = fold\n",
    "    \n",
    "assert train_data.groupby(['fold', 'cancer']).size().sum() == train_data.shape[0]"
   ]
  },
  {
   "cell_type": "code",
   "execution_count": 7,
   "id": "e84c10c0",
   "metadata": {},
   "outputs": [
    {
     "data": {
      "text/plain": [
       "fold  cancer\n",
       "0     0         10746\n",
       "      1           233\n",
       "1     0         10644\n",
       "      1           235\n",
       "2     0         10763\n",
       "      1           249\n",
       "3     0         10670\n",
       "      1           221\n",
       "4     0         10725\n",
       "      1           220\n",
       "dtype: int64"
      ]
     },
     "execution_count": 7,
     "metadata": {},
     "output_type": "execute_result"
    }
   ],
   "source": [
    "train_data.groupby(['fold', 'cancer']).size()"
   ]
  },
  {
   "cell_type": "code",
   "execution_count": 8,
   "id": "8742c3d3",
   "metadata": {},
   "outputs": [],
   "source": [
    "train_data.to_csv(f'{CFG.n_splits}_folds_data.csv', index=False)"
   ]
  },
  {
   "cell_type": "code",
   "execution_count": null,
   "id": "e45ac816",
   "metadata": {},
   "outputs": [],
   "source": []
  }
 ],
 "metadata": {
  "kernelspec": {
   "display_name": "AI",
   "language": "python",
   "name": "ai"
  },
  "language_info": {
   "codemirror_mode": {
    "name": "ipython",
    "version": 3
   },
   "file_extension": ".py",
   "mimetype": "text/x-python",
   "name": "python",
   "nbconvert_exporter": "python",
   "pygments_lexer": "ipython3",
   "version": "3.10.8"
  }
 },
 "nbformat": 4,
 "nbformat_minor": 5
}
