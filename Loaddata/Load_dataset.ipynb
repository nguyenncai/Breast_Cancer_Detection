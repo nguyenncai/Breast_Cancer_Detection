{
 "cells": [
  {
   "cell_type": "markdown",
   "id": "2fcd54da",
   "metadata": {},
   "source": [
    "# Import library"
   ]
  },
  {
   "cell_type": "code",
   "execution_count": 1,
   "id": "83c52f39",
   "metadata": {},
   "outputs": [],
   "source": [
    "import os\n",
    "import cv2\n",
    "import numpy as np\n",
    "import pandas as pd\n",
    "import seaborn as sns\n",
    "import tensorflow as tf\n",
    "import keras\n",
    "\n",
    "\n",
    "from glob import glob\n",
    "from tqdm import tqdm\n",
    "from matplotlib import pyplot as plt\n",
    "from tensorflow.python.client import device_lib"
   ]
  },
  {
   "cell_type": "code",
   "execution_count": 2,
   "id": "14e22d23",
   "metadata": {},
   "outputs": [],
   "source": [
    "#Set up CPU and GPU\n",
    "def set_cpu_gpus(mixed_precision=True):\n",
    "    try: \n",
    "        # printed out the detected devices\n",
    "        list_ld = device_lib.list_local_devices()\n",
    "        for dev in list_ld: print(dev.name,dev.memory_limit)\n",
    "        physical_devices = tf.config.list_physical_devices(\n",
    "            'GPU' if len(list_ld) - 1 else 'CPU'\n",
    "        )\n",
    "        # For GPU devices, set growth memory constraint\n",
    "        if 'GPU' in physical_devices[-1]:\n",
    "            tf.config.optimizer.set_jit(True)\n",
    "            keras.mixed_precision.set_global_policy(\"mixed_float16\")\n",
    "            for pd in physical_devices:\n",
    "                tf.config.experimental.set_memory_growth(pd, True)\n",
    "        strategy = tf.distribute.MirroredStrategy()\n",
    "        return (strategy, physical_devices)\n",
    "    except: \n",
    "        raise ValueError('No Device Detected!')"
   ]
  },
  {
   "cell_type": "code",
   "execution_count": 3,
   "id": "645bfea4",
   "metadata": {},
   "outputs": [
    {
     "name": "stdout",
     "output_type": "stream",
     "text": [
      "/device:CPU:0 268435456\n",
      "/device:GPU:0 4176478208\n",
      "INFO:tensorflow:Mixed precision compatibility check (mixed_float16): OK\n",
      "Your GPU will likely run quickly with dtype policy mixed_float16 as it has compute capability of at least 7.0. Your GPU: NVIDIA GeForce GTX 1660 Ti, compute capability 7.5\n",
      "INFO:tensorflow:Using MirroredStrategy with devices ('/job:localhost/replica:0/task:0/device:GPU:0',)\n"
     ]
    },
    {
     "data": {
      "text/plain": [
       "([PhysicalDevice(name='/physical_device:GPU:0', device_type='GPU')], '2.10.1')"
      ]
     },
     "execution_count": 3,
     "metadata": {},
     "output_type": "execute_result"
    }
   ],
   "source": [
    "strategy, physical_devices =  set_cpu_gpus()\n",
    "physical_devices, tf.__version__"
   ]
  },
  {
   "cell_type": "code",
   "execution_count": 4,
   "id": "7aca62c7",
   "metadata": {},
   "outputs": [],
   "source": [
    "class CFG:\n",
    "    class data:\n",
    "        fold=0\n",
    "        batch_size=8\n",
    "        image_size=(512, 512)\n",
    "        \n",
    "       \n",
    "        base_path = r\"D:/Breast_Cancer_Detection\"\n",
    "        \n",
    "        \n",
    "        path_to_train= r\"D:/Breast_Cancer_Detection/5_folds_data.csv\"\n",
    "        path_to_train_images=  r\"D:/Breast_Cancer_Detection/train_images/dataset\""
   ]
  },
  {
   "cell_type": "markdown",
   "id": "49c1f039",
   "metadata": {},
   "source": [
    "# Load data"
   ]
  },
  {
   "cell_type": "code",
   "execution_count": 6,
   "id": "50a8acef",
   "metadata": {},
   "outputs": [
    {
     "name": "stdout",
     "output_type": "stream",
     "text": [
      "train.shape = (54706, 15)\n"
     ]
    },
    {
     "data": {
      "text/html": [
       "<div>\n",
       "<style scoped>\n",
       "    .dataframe tbody tr th:only-of-type {\n",
       "        vertical-align: middle;\n",
       "    }\n",
       "\n",
       "    .dataframe tbody tr th {\n",
       "        vertical-align: top;\n",
       "    }\n",
       "\n",
       "    .dataframe thead th {\n",
       "        text-align: right;\n",
       "    }\n",
       "</style>\n",
       "<table border=\"1\" class=\"dataframe\">\n",
       "  <thead>\n",
       "    <tr style=\"text-align: right;\">\n",
       "      <th></th>\n",
       "      <th>site_id</th>\n",
       "      <th>patient_id</th>\n",
       "      <th>image_id</th>\n",
       "      <th>laterality</th>\n",
       "      <th>view</th>\n",
       "      <th>age</th>\n",
       "      <th>cancer</th>\n",
       "      <th>biopsy</th>\n",
       "      <th>invasive</th>\n",
       "      <th>BIRADS</th>\n",
       "      <th>implant</th>\n",
       "      <th>density</th>\n",
       "      <th>machine_id</th>\n",
       "      <th>difficult_negative_case</th>\n",
       "      <th>fold</th>\n",
       "    </tr>\n",
       "  </thead>\n",
       "  <tbody>\n",
       "    <tr>\n",
       "      <th>0</th>\n",
       "      <td>2</td>\n",
       "      <td>10006</td>\n",
       "      <td>462822612</td>\n",
       "      <td>L</td>\n",
       "      <td>CC</td>\n",
       "      <td>61.0</td>\n",
       "      <td>0</td>\n",
       "      <td>0</td>\n",
       "      <td>0</td>\n",
       "      <td>NaN</td>\n",
       "      <td>0</td>\n",
       "      <td>NaN</td>\n",
       "      <td>29</td>\n",
       "      <td>False</td>\n",
       "      <td>1</td>\n",
       "    </tr>\n",
       "    <tr>\n",
       "      <th>1</th>\n",
       "      <td>2</td>\n",
       "      <td>10006</td>\n",
       "      <td>1459541791</td>\n",
       "      <td>L</td>\n",
       "      <td>MLO</td>\n",
       "      <td>61.0</td>\n",
       "      <td>0</td>\n",
       "      <td>0</td>\n",
       "      <td>0</td>\n",
       "      <td>NaN</td>\n",
       "      <td>0</td>\n",
       "      <td>NaN</td>\n",
       "      <td>29</td>\n",
       "      <td>False</td>\n",
       "      <td>1</td>\n",
       "    </tr>\n",
       "    <tr>\n",
       "      <th>2</th>\n",
       "      <td>2</td>\n",
       "      <td>10006</td>\n",
       "      <td>1864590858</td>\n",
       "      <td>R</td>\n",
       "      <td>MLO</td>\n",
       "      <td>61.0</td>\n",
       "      <td>0</td>\n",
       "      <td>0</td>\n",
       "      <td>0</td>\n",
       "      <td>NaN</td>\n",
       "      <td>0</td>\n",
       "      <td>NaN</td>\n",
       "      <td>29</td>\n",
       "      <td>False</td>\n",
       "      <td>1</td>\n",
       "    </tr>\n",
       "    <tr>\n",
       "      <th>3</th>\n",
       "      <td>2</td>\n",
       "      <td>10006</td>\n",
       "      <td>1874946579</td>\n",
       "      <td>R</td>\n",
       "      <td>CC</td>\n",
       "      <td>61.0</td>\n",
       "      <td>0</td>\n",
       "      <td>0</td>\n",
       "      <td>0</td>\n",
       "      <td>NaN</td>\n",
       "      <td>0</td>\n",
       "      <td>NaN</td>\n",
       "      <td>29</td>\n",
       "      <td>False</td>\n",
       "      <td>1</td>\n",
       "    </tr>\n",
       "    <tr>\n",
       "      <th>4</th>\n",
       "      <td>2</td>\n",
       "      <td>10011</td>\n",
       "      <td>220375232</td>\n",
       "      <td>L</td>\n",
       "      <td>CC</td>\n",
       "      <td>55.0</td>\n",
       "      <td>0</td>\n",
       "      <td>0</td>\n",
       "      <td>0</td>\n",
       "      <td>0.0</td>\n",
       "      <td>0</td>\n",
       "      <td>NaN</td>\n",
       "      <td>21</td>\n",
       "      <td>True</td>\n",
       "      <td>0</td>\n",
       "    </tr>\n",
       "  </tbody>\n",
       "</table>\n",
       "</div>"
      ],
      "text/plain": [
       "   site_id  patient_id    image_id laterality view   age  cancer  biopsy  \\\n",
       "0        2       10006   462822612          L   CC  61.0       0       0   \n",
       "1        2       10006  1459541791          L  MLO  61.0       0       0   \n",
       "2        2       10006  1864590858          R  MLO  61.0       0       0   \n",
       "3        2       10006  1874946579          R   CC  61.0       0       0   \n",
       "4        2       10011   220375232          L   CC  55.0       0       0   \n",
       "\n",
       "   invasive  BIRADS  implant density  machine_id  difficult_negative_case  \\\n",
       "0         0     NaN        0     NaN          29                    False   \n",
       "1         0     NaN        0     NaN          29                    False   \n",
       "2         0     NaN        0     NaN          29                    False   \n",
       "3         0     NaN        0     NaN          29                    False   \n",
       "4         0     0.0        0     NaN          21                     True   \n",
       "\n",
       "   fold  \n",
       "0     1  \n",
       "1     1  \n",
       "2     1  \n",
       "3     1  \n",
       "4     0  "
      ]
     },
     "execution_count": 6,
     "metadata": {},
     "output_type": "execute_result"
    }
   ],
   "source": [
    "df = pd.read_csv(CFG.data.path_to_train)\n",
    "print(f\"train.shape = {df.shape}\")\n",
    "\n",
    "df.head()"
   ]
  },
  {
   "cell_type": "code",
   "execution_count": 20,
   "id": "ef88127d",
   "metadata": {},
   "outputs": [
    {
     "data": {
      "text/html": [
       "<div>\n",
       "<style scoped>\n",
       "    .dataframe tbody tr th:only-of-type {\n",
       "        vertical-align: middle;\n",
       "    }\n",
       "\n",
       "    .dataframe tbody tr th {\n",
       "        vertical-align: top;\n",
       "    }\n",
       "\n",
       "    .dataframe thead th {\n",
       "        text-align: right;\n",
       "    }\n",
       "</style>\n",
       "<table border=\"1\" class=\"dataframe\">\n",
       "  <thead>\n",
       "    <tr style=\"text-align: right;\">\n",
       "      <th></th>\n",
       "      <th>site_id</th>\n",
       "      <th>patient_id</th>\n",
       "      <th>image_id</th>\n",
       "      <th>laterality</th>\n",
       "      <th>view</th>\n",
       "      <th>age</th>\n",
       "      <th>cancer</th>\n",
       "      <th>biopsy</th>\n",
       "      <th>invasive</th>\n",
       "      <th>BIRADS</th>\n",
       "      <th>implant</th>\n",
       "      <th>density</th>\n",
       "      <th>machine_id</th>\n",
       "      <th>difficult_negative_case</th>\n",
       "      <th>fold</th>\n",
       "      <th>image_path</th>\n",
       "      <th>img_path</th>\n",
       "    </tr>\n",
       "  </thead>\n",
       "  <tbody>\n",
       "    <tr>\n",
       "      <th>0</th>\n",
       "      <td>2</td>\n",
       "      <td>10006</td>\n",
       "      <td>462822612</td>\n",
       "      <td>L</td>\n",
       "      <td>CC</td>\n",
       "      <td>61.0</td>\n",
       "      <td>0</td>\n",
       "      <td>0</td>\n",
       "      <td>0</td>\n",
       "      <td>NaN</td>\n",
       "      <td>0</td>\n",
       "      <td>NaN</td>\n",
       "      <td>29</td>\n",
       "      <td>False</td>\n",
       "      <td>1</td>\n",
       "      <td>D:/Breast_Cancer_Detection/train_images/datase...</td>\n",
       "      <td>D:/Breast_Cancer_Detection/train_images/datase...</td>\n",
       "    </tr>\n",
       "    <tr>\n",
       "      <th>1</th>\n",
       "      <td>2</td>\n",
       "      <td>10006</td>\n",
       "      <td>1459541791</td>\n",
       "      <td>L</td>\n",
       "      <td>MLO</td>\n",
       "      <td>61.0</td>\n",
       "      <td>0</td>\n",
       "      <td>0</td>\n",
       "      <td>0</td>\n",
       "      <td>NaN</td>\n",
       "      <td>0</td>\n",
       "      <td>NaN</td>\n",
       "      <td>29</td>\n",
       "      <td>False</td>\n",
       "      <td>1</td>\n",
       "      <td>D:/Breast_Cancer_Detection/train_images/datase...</td>\n",
       "      <td>D:/Breast_Cancer_Detection/train_images/datase...</td>\n",
       "    </tr>\n",
       "  </tbody>\n",
       "</table>\n",
       "</div>"
      ],
      "text/plain": [
       "   site_id  patient_id    image_id laterality view   age  cancer  biopsy  \\\n",
       "0        2       10006   462822612          L   CC  61.0       0       0   \n",
       "1        2       10006  1459541791          L  MLO  61.0       0       0   \n",
       "\n",
       "   invasive  BIRADS  implant density  machine_id  difficult_negative_case  \\\n",
       "0         0     NaN        0     NaN          29                    False   \n",
       "1         0     NaN        0     NaN          29                    False   \n",
       "\n",
       "   fold                                         image_path  \\\n",
       "0     1  D:/Breast_Cancer_Detection/train_images/datase...   \n",
       "1     1  D:/Breast_Cancer_Detection/train_images/datase...   \n",
       "\n",
       "                                            img_path  \n",
       "0  D:/Breast_Cancer_Detection/train_images/datase...  \n",
       "1  D:/Breast_Cancer_Detection/train_images/datase...  "
      ]
     },
     "metadata": {},
     "output_type": "display_data"
    },
    {
     "data": {
      "text/plain": [
       "'D:/Breast_Cancer_Detection/train_images/dataset/10006_462822612.png'"
      ]
     },
     "metadata": {},
     "output_type": "display_data"
    }
   ],
   "source": [
    "df['img_path'] = f'{CFG.data.path_to_train_images}' + '/' + df['patient_id'].astype(str) + '_' + df['image_id'].astype(str) + '.png'\n",
    "\n",
    "\n",
    "display(df.head(2))\n",
    "display(df['img_path'][0])"
   ]
  },
  {
   "cell_type": "code",
   "execution_count": 21,
   "id": "242e9dfc",
   "metadata": {},
   "outputs": [
    {
     "data": {
      "text/plain": [
       "((43727, 17), (10979, 17))"
      ]
     },
     "execution_count": 21,
     "metadata": {},
     "output_type": "execute_result"
    }
   ],
   "source": [
    "train_df = df.query(f'fold != {CFG.data.fold}').reset_index(drop=True)\n",
    "valid_df = df.query(f'fold == {CFG.data.fold}').reset_index(drop=True)\n",
    "\n",
    "train_df.shape, valid_df.shape"
   ]
  },
  {
   "cell_type": "code",
   "execution_count": 22,
   "id": "f040a6b8",
   "metadata": {},
   "outputs": [
    {
     "data": {
      "text/plain": [
       "(0    42802\n",
       " 1      925\n",
       " Name: cancer, dtype: int64,\n",
       " 0    10746\n",
       " 1      233\n",
       " Name: cancer, dtype: int64)"
      ]
     },
     "execution_count": 22,
     "metadata": {},
     "output_type": "execute_result"
    }
   ],
   "source": [
    "assert not round(233 / 10746 - 925 / 42802)\n",
    "\n",
    "train_df.cancer.value_counts(), valid_df.cancer.value_counts()"
   ]
  },
  {
   "cell_type": "markdown",
   "id": "562770f4",
   "metadata": {},
   "source": [
    "# Data Loader"
   ]
  },
  {
   "cell_type": "code",
   "execution_count": 23,
   "id": "f2a0efab",
   "metadata": {},
   "outputs": [],
   "source": [
    "# SetAutoTune\n",
    "BATCH_SIZE = 32 * strategy.num_replicas_in_sync\n",
    "INP_SIZE = (512, 512)\n",
    "AUTOTUNE = tf.data.AUTOTUNE\n",
    "EPOCHS = 15"
   ]
  },
  {
   "cell_type": "code",
   "execution_count": 24,
   "id": "c50f7f2e",
   "metadata": {},
   "outputs": [],
   "source": [
    "def image_decoder(with_labels):\n",
    "\n",
    "    def decode(path):\n",
    "        file_bytes = tf.io.read_file(path)\n",
    "        img = tf.image.decode_jpeg(file_bytes, channels = 3)\n",
    "        img = tf.reshape(img, [*INP_SIZE, 3])\n",
    "        return img\n",
    "    \n",
    "    def decode_with_labels(path, label):\n",
    "        return decode(path), label\n",
    "    \n",
    "    return decode_with_labels if with_labels else decode\n",
    "\n",
    "def create_dataset(\n",
    "    df, \n",
    "    batch_size  = 32, \n",
    "    with_labels = False,  \n",
    "    shuffle     = False\n",
    "):\n",
    "    # Image file decoder\n",
    "    decode_fn = image_decoder(with_labels)\n",
    "\n",
    "    # Create Dataset\n",
    "    if with_labels:\n",
    "        dataset = tf.data.Dataset.from_tensor_slices(\n",
    "            (df['img_path'].values, df['cancer'].values)\n",
    "        )\n",
    "    else:\n",
    "        dataset = tf.data.Dataset.from_tensor_slices(\n",
    "            (df['img_path'].values)\n",
    "        )\n",
    "        \n",
    "    dataset = dataset.map(decode_fn, num_parallel_calls = AUTOTUNE)\n",
    "    dataset = dataset.shuffle(8 * BATCH_SIZE, reshuffle_each_iteration = True) if shuffle else dataset\n",
    "    dataset = dataset.batch(batch_size, drop_remainder=shuffle)\n",
    "    dataset = dataset.prefetch(AUTOTUNE)\n",
    "    return dataset"
   ]
  },
  {
   "cell_type": "code",
   "execution_count": 25,
   "id": "72af27b1",
   "metadata": {},
   "outputs": [],
   "source": [
    "training_dataset = create_dataset(\n",
    "    train_df,\n",
    "    batch_size  = BATCH_SIZE, \n",
    "    with_labels = True, \n",
    "    shuffle = True\n",
    ")\n",
    "\n",
    "valid_dataset = create_dataset(\n",
    "    valid_df,\n",
    "    batch_size  = BATCH_SIZE, \n",
    "    with_labels = True, \n",
    "    shuffle = False\n",
    ")"
   ]
  },
  {
   "cell_type": "code",
   "execution_count": 28,
   "id": "376bcecf",
   "metadata": {},
   "outputs": [
    {
     "name": "stdout",
     "output_type": "stream",
     "text": [
      "Shape training data:  <PrefetchDataset element_spec=(TensorSpec(shape=(32, 512, 512, 3), dtype=tf.uint8, name=None), TensorSpec(shape=(32,), dtype=tf.int64, name=None))>\n",
      "Shape valid data:  <PrefetchDataset element_spec=(TensorSpec(shape=(None, 512, 512, 3), dtype=tf.uint8, name=None), TensorSpec(shape=(None,), dtype=tf.int64, name=None))>\n"
     ]
    }
   ],
   "source": [
    "print(\"Shape training data: \",training_dataset)\n",
    "print(\"Shape valid data: \",valid_dataset)"
   ]
  },
  {
   "cell_type": "code",
   "execution_count": null,
   "id": "26ca746f",
   "metadata": {},
   "outputs": [],
   "source": [
    "# Nghia: em có thể lấy thử 1 vài batch trong dataset xem nó có cho ra data như mình mong muốn hay không"
   ]
  }
 ],
 "metadata": {
  "kernelspec": {
   "display_name": "AI",
   "language": "python",
   "name": "ai"
  },
  "language_info": {
   "codemirror_mode": {
    "name": "ipython",
    "version": 3
   },
   "file_extension": ".py",
   "mimetype": "text/x-python",
   "name": "python",
   "nbconvert_exporter": "python",
   "pygments_lexer": "ipython3",
   "version": "3.10.8"
  }
 },
 "nbformat": 4,
 "nbformat_minor": 5
}
